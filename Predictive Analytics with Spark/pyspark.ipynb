{
 "cells": [
  {
   "cell_type": "code",
   "execution_count": 1,
   "metadata": {},
   "outputs": [],
   "source": [
    "#Import all the required libraries\n",
    "import findspark\n",
    "import pandas as pd\n",
    "import pyspark\n",
    "from pyspark.sql import *\n",
    "from pyspark.sql.functions import *\n",
    "from pyspark.ml.feature import Tokenizer, StopWordsRemover,CountVectorizer,StringIndexer,VectorAssembler\n",
    "from pyspark.mllib.classification import LogisticRegressionWithSGD\n",
    "from pyspark.mllib import linalg as mllib_linalg\n",
    "from pyspark.mllib.regression import LabeledPoint\n",
    "from pyspark.sql.types import IntegerType,FloatType,StructType\n",
    "from pyspark.mllib.linalg import Vectors\n",
    "from pyspark.ml.feature import Word2Vec\n",
    "from pyspark.ml import Pipeline\n",
    "from pyspark.ml.feature import HashingTF, IDF\n"
   ]
  },
  {
   "cell_type": "code",
   "execution_count": 2,
   "metadata": {},
   "outputs": [],
   "source": [
    "#Initialize spark and create spark context\n",
    "findspark.init('spark-2.4.0-bin-hadoop2.7')\n",
    "\n",
    "spark = SparkSession.builder \\\n",
    "       .master(\"local[2]\") \\\n",
    "       .appName(\"Movie Genre prediction\") \\\n",
    "       .config(\"spark.driver.memory\", \"8g\")\\\n",
    "       .getOrCreate()\n",
    "sc=spark.sparkContext\n",
    "sqlContext = SQLContext(sc)\n",
    "\n"
   ]
  },
  {
   "cell_type": "code",
   "execution_count": 3,
   "metadata": {},
   "outputs": [
    {
     "name": "stdout",
     "output_type": "stream",
     "text": [
      "+--------+------------------+--------------------+--------------------+\n",
      "|movie_id|        movie_name|                plot|               genre|\n",
      "+--------+------------------+--------------------+--------------------+\n",
      "|23890098|        Taxi Blues|Shlykov, a hard-w...|['World cinema', ...|\n",
      "|31186339|  The Hunger Games|The nation of Pan...|['Action/Adventur...|\n",
      "|20663735|        Narasimham|Poovalli Induchoo...|['Musical', 'Acti...|\n",
      "| 2231378|The Lemon Drop Kid|The Lemon Drop Ki...|          ['Comedy']|\n",
      "|  595909| A Cry in the Dark|Seventh-day Adven...|['Crime Fiction',...|\n",
      "+--------+------------------+--------------------+--------------------+\n",
      "only showing top 5 rows\n",
      "\n",
      "+----------+------------+\n",
      "|Unnamed: 0|           0|\n",
      "+----------+------------+\n",
      "|         0|       Drama|\n",
      "|         1|      Comedy|\n",
      "|         2|Romance Film|\n",
      "|         3|    Thriller|\n",
      "|         4|      Action|\n",
      "+----------+------------+\n",
      "only showing top 5 rows\n",
      "\n",
      "+--------+--------------------+--------------------+\n",
      "|movie_id|          movie_name|                plot|\n",
      "+--------+--------------------+--------------------+\n",
      "| 1335380|              Exodus|The film is based...|\n",
      "|29062594|A la salida nos v...|A group of teenag...|\n",
      "| 9252321|   Come Back, Africa|This story of a Z...|\n",
      "|13455076|       A Merry Mixup|The Stooges play ...|\n",
      "|24165951|        Getting Even|A soldier-of-fort...|\n",
      "+--------+--------------------+--------------------+\n",
      "only showing top 5 rows\n",
      "\n"
     ]
    }
   ],
   "source": [
    "#Read training data \n",
    "df_train=pd.read_csv('train.csv')\n",
    "df_train = sqlContext.createDataFrame(df_train)\n",
    "df_train.show(5)\n",
    "\n",
    "#Read label mapping \n",
    "df_mapping=pd.read_csv('mapping.csv')\n",
    "df_mapping = sqlContext.createDataFrame(df_mapping)\n",
    "df_mapping.show(5)\n",
    "\n",
    "#Read test data\n",
    "df_test=pd.read_csv('test.csv')\n",
    "df_test = sqlContext.createDataFrame(df_test)\n",
    "df_test.show(5)"
   ]
  },
  {
   "cell_type": "code",
   "execution_count": 4,
   "metadata": {},
   "outputs": [],
   "source": [
    "#Select only necessary columns\n",
    "df_train_features=df_train.select('movie_id','plot')\n",
    "df_test_features=df_test.select('movie_id','plot')"
   ]
  },
  {
   "cell_type": "markdown",
   "metadata": {},
   "source": [
    "# Preprocessing"
   ]
  },
  {
   "cell_type": "code",
   "execution_count": 5,
   "metadata": {},
   "outputs": [
    {
     "name": "stdout",
     "output_type": "stream",
     "text": [
      "+--------+--------------------+\n",
      "|movie_id|        final_tokens|\n",
      "+--------+--------------------+\n",
      "|23890098|[shlykov, hardwor...|\n",
      "|31186339|[nation, panem, c...|\n",
      "|20663735|[poovalli, induch...|\n",
      "| 2231378|[lemon, drop, kid...|\n",
      "|  595909|[seventhday, adve...|\n",
      "+--------+--------------------+\n",
      "only showing top 5 rows\n",
      "\n",
      "+--------+--------------------+\n",
      "|movie_id|        final_tokens|\n",
      "+--------+--------------------+\n",
      "| 1335380|[film, based, eve...|\n",
      "|29062594|[group, teenagers...|\n",
      "| 9252321|[story, zulu, fam...|\n",
      "|13455076|[stooges, play, t...|\n",
      "|24165951|[soldieroffortune...|\n",
      "+--------+--------------------+\n",
      "only showing top 5 rows\n",
      "\n"
     ]
    }
   ],
   "source": [
    "#Pre-processing\n",
    "\n",
    "#Removing special characters from plot column\n",
    "df_train_features = df_train_features.select('movie_id',(lower(regexp_replace('plot', \"[^a-zA-Z\\\\s]\", \"\")).alias('plot')))\n",
    "df_test_features = df_test_features.select('movie_id',(lower(regexp_replace('plot', \"[^a-zA-Z\\\\s]\", \"\")).alias('plot')))\n",
    "\n",
    "#Tokenizing the plot column\n",
    "tokenizer = Tokenizer(inputCol='plot', outputCol='tokenized_plot')\n",
    "df_train_features = tokenizer.transform(df_train_features).select('movie_id','tokenized_plot')\n",
    "df_test_features = tokenizer.transform(df_test_features).select('movie_id','tokenized_plot')\n",
    "\n",
    "#Removing stopwords\n",
    "remover = StopWordsRemover(inputCol='tokenized_plot', outputCol='final_tokens')\n",
    "df_train_features = remover.transform(df_train_features).select('movie_id','final_tokens')\n",
    "df_test_features = remover.transform(df_test_features).select('movie_id','final_tokens')\n",
    "\n",
    "df_train_features.show(5)\n",
    "df_test_features.show(5)\n"
   ]
  },
  {
   "cell_type": "code",
   "execution_count": 6,
   "metadata": {},
   "outputs": [
    {
     "name": "stdout",
     "output_type": "stream",
     "text": [
      "+--------+--------------------+-----+------+------------+--------+------+------------+-------------+------+---------------+-----+----------------+---------+-----------+----------+--------------+---------+-------+---------------+-------+---------------+\n",
      "|movie_id|               genre|Drama|Comedy|Romance Film|Thriller|Action|World cinema|Crime Fiction|Horror|Black-and-white|Indie|Action/Adventure|Adventure|Family Film|Short Film|Romantic drama|Animation|Musical|Science Fiction|Mystery|Romantic comedy|\n",
      "+--------+--------------------+-----+------+------------+--------+------+------------+-------------+------+---------------+-----+----------------+---------+-----------+----------+--------------+---------+-------+---------------+-------+---------------+\n",
      "|23890098|[World cinema, Dr...|  1.0|   0.0|         0.0|     0.0|   0.0|         1.0|          0.0|   0.0|            0.0|  0.0|             0.0|      0.0|        0.0|       0.0|           0.0|      0.0|    0.0|            0.0|    0.0|            0.0|\n",
      "|31186339|[Action/Adventure...|  1.0|   0.0|         0.0|     0.0|   1.0|         0.0|          0.0|   0.0|            0.0|  0.0|             1.0|      0.0|        0.0|       0.0|           0.0|      0.0|    0.0|            1.0|    0.0|            0.0|\n",
      "+--------+--------------------+-----+------+------------+--------+------+------------+-------------+------+---------------+-----+----------------+---------+-----------+----------+--------------+---------+-------+---------------+-------+---------------+\n",
      "only showing top 2 rows\n",
      "\n"
     ]
    }
   ],
   "source": [
    "#Converting True genres to binary values\n",
    "df_train_genres=df_train.select('movie_id',regexp_replace('genre', r'([\\[\\]\\']+)', '').alias('genre'))\n",
    "df_train_genres=df_train_genres.select('movie_id',regexp_replace('genre',\", \", ',').alias('genre'))\n",
    "df_train_genres=df_train_genres.select('movie_id',split(df_train_genres['genre'],',').alias('genre'))\n",
    "genres = df_mapping.select(\"0\").rdd.map(lambda row: row[0]).collect()\n",
    "\n",
    "for genre in genres:\n",
    "    def func(values):\n",
    "        if genre in values:\n",
    "            return 1.0\n",
    "        else:\n",
    "            return 0.0\n",
    "    func_udf = udf(lambda x: func(x), FloatType())\n",
    "    df_train_genres = df_train_genres.withColumn(genre, func_udf(col('genre')))\n",
    "\n",
    "df_train_genres.show(2)\n"
   ]
  },
  {
   "cell_type": "markdown",
   "metadata": {},
   "source": [
    "# Part-1 Basic Model"
   ]
  },
  {
   "cell_type": "code",
   "execution_count": 7,
   "metadata": {},
   "outputs": [
    {
     "name": "stdout",
     "output_type": "stream",
     "text": [
      "+--------+--------------------+\n",
      "|movie_id|            features|\n",
      "+--------+--------------------+\n",
      "|23890098|(376,[125,176],[1...|\n",
      "|31186339|(376,[0,3,5,8,12,...|\n",
      "|20663735|(376,[0,2,6,10,12...|\n",
      "| 2231378|(376,[0,8,9,13,15...|\n",
      "|  595909|(376,[0,3,9,10,15...|\n",
      "+--------+--------------------+\n",
      "only showing top 5 rows\n",
      "\n",
      "+--------+--------------------+\n",
      "|movie_id|            features|\n",
      "+--------+--------------------+\n",
      "| 1335380|(376,[0,1,4,6,8,9...|\n",
      "|29062594|(376,[8,10,59,73,...|\n",
      "| 9252321|(376,[0,7,8,11,13...|\n",
      "|13455076|(376,[0,1,69,78,9...|\n",
      "|24165951|(376,[18,332,361]...|\n",
      "+--------+--------------------+\n",
      "only showing top 5 rows\n",
      "\n"
     ]
    }
   ],
   "source": [
    "#Implement document term matrix using CountVectorizer\n",
    "\n",
    "cv = CountVectorizer(inputCol=\"final_tokens\", outputCol=\"features\", minDF=0.05)\n",
    "\n",
    "model = cv.fit(df_train_features)\n",
    "\n",
    "countVectors_train = model.transform(df_train_features)\n",
    "countVectors_test = model.transform(df_test_features)\n",
    "\n",
    "df_train_features_phase1 = countVectors_train.select('movie_id','features')\n",
    "df_test_features_phase1 = countVectors_test.select('movie_id','features')\n",
    "\n",
    "\n",
    "df_train_features_phase1.show(5)\n",
    "df_test_features_phase1.show(5)"
   ]
  },
  {
   "cell_type": "code",
   "execution_count": 8,
   "metadata": {},
   "outputs": [],
   "source": [
    "#Convert training data to a format that Logstic Regression would expect\n",
    "\n",
    "trainingdata_phase1 = df_train_features_phase1\n",
    "labeldata = df_train_genres.select('movie_id',genre)\n",
    "trainingdata_phase1=trainingdata_phase1.join(labeldata, \"movie_id\", \"inner\")\n",
    "trainingdata_phase1=trainingdata_phase1.withColumnRenamed(genre,'label')\n",
    "\n",
    "trainingdata_phase1=trainingdata_phase1.select(col(\"label\"), col(\"features\")).rdd\\\n",
    "                .map(lambda row: LabeledPoint(row.label, Vectors.fromML(row.features)))\n"
   ]
  },
  {
   "cell_type": "code",
   "execution_count": 9,
   "metadata": {},
   "outputs": [
    {
     "name": "stdout",
     "output_type": "stream",
     "text": [
      "Genre: Drama\n",
      "Genre: Comedy\n",
      "Genre: Romance Film\n",
      "Genre: Thriller\n",
      "Genre: Action\n",
      "Genre: World cinema\n",
      "Genre: Crime Fiction\n",
      "Genre: Horror\n",
      "Genre: Black-and-white\n",
      "Genre: Indie\n",
      "Genre: Action/Adventure\n",
      "Genre: Adventure\n",
      "Genre: Family Film\n",
      "Genre: Short Film\n",
      "Genre: Romantic drama\n",
      "Genre: Animation\n",
      "Genre: Musical\n",
      "Genre: Science Fiction\n",
      "Genre: Mystery\n",
      "Genre: Romantic comedy\n"
     ]
    }
   ],
   "source": [
    "#Train the logistic regression model looping through each genre\n",
    "\n",
    "df_predictons_phase1=df_test.select('movie_id')\n",
    "\n",
    "for genre in genres:\n",
    "    print(\"Genre: \"+genre)\n",
    "    labeldata = df_train_genres.select('movie_id',genre)\n",
    "    trainingdata_phase1=df_train_features_phase1.join(labeldata, \"movie_id\", \"inner\")\n",
    "    trainingdata_phase1=trainingdata_phase1.withColumnRenamed(genre,'label')\n",
    "    \n",
    "    trainingdata_phase1=trainingdata_phase1.select(col(\"label\"), col(\"features\")).rdd\\\n",
    "                .map(lambda row: LabeledPoint(row.label, Vectors.fromML(row.features)))\n",
    "\n",
    "    lr = LogisticRegressionWithSGD.train(trainingdata_phase1,iterations=30)\n",
    "    \n",
    "    predictions=df_test_features_phase1.select(col(\"movie_id\"),col(\"features\")).rdd\\\n",
    "                       .map(lambda row: (row.movie_id,lr.predict(Vectors.fromML(row.features))))\n",
    "    \n",
    "    predictions=predictions.toDF()\n",
    "    predictions=predictions.withColumnRenamed('_1','movie_id')\n",
    "    predictions=predictions.withColumnRenamed('_2','prediction')\n",
    "    \n",
    "    predictions = predictions.withColumnRenamed(\"prediction\",genre).select('movie_id',genre)\n",
    "    df_predictons_phase1=df_predictons_phase1.join(predictions, \"movie_id\",\"inner\")\n",
    "\n",
    "    \n"
   ]
  },
  {
   "cell_type": "code",
   "execution_count": 10,
   "metadata": {},
   "outputs": [],
   "source": [
    "#Write to CSV file in the format that Kaggle would expect\n",
    "df_predictons_final_phase1 = df_predictons_phase1.withColumn(\"predictions\", concat_ws(\" \",*[col(genre).cast('int') for genre in genres]))\n",
    "df_predictons_final_phase1 = df_predictons_final_phase1.select('movie_id','predictions')\n",
    "df_predictons_final_phase1.repartition(1).write.csv(\"phase1_predictions.csv\",sep=',',header='true')"
   ]
  },
  {
   "cell_type": "markdown",
   "metadata": {},
   "source": [
    "# Part-2 TF-IDF"
   ]
  },
  {
   "cell_type": "code",
   "execution_count": 11,
   "metadata": {},
   "outputs": [],
   "source": [
    "#Implement TF-IDF\n",
    "hashingTF = HashingTF(inputCol=\"final_tokens\", outputCol=\"rawFeatures\", numFeatures=df_train_features_phase1.take(1)[0][1].size)\n",
    "idf = IDF(inputCol=\"rawFeatures\", outputCol=\"features\") #minDocFreq: remove sparse terms\n",
    "pipeline = Pipeline(stages=[hashingTF, idf])\n",
    "\n",
    "pipelineFit = pipeline.fit(df_train_features)\n",
    "df_train_features_phase2 = pipelineFit.transform(df_train_features)\n",
    "df_test_features_phase2 = pipelineFit.transform(df_test_features)"
   ]
  },
  {
   "cell_type": "code",
   "execution_count": 12,
   "metadata": {},
   "outputs": [],
   "source": [
    "#Convert training data to a format that Logstic Regression would expect\n",
    "trainingdata_phase2 = df_train_features_phase2\n",
    "labeldata = df_train_genres.select('movie_id',genre)\n",
    "trainingdata_phase2=trainingdata_phase2.join(labeldata, \"movie_id\", \"inner\")\n",
    "trainingdata_phase2=trainingdata_phase2.withColumnRenamed(genre,'label')\n",
    "\n",
    "trainingdata_phase2=trainingdata_phase2.select(col(\"label\"), col(\"features\")).rdd\\\n",
    "                .map(lambda row: LabeledPoint(row.label, Vectors.fromML(row.features)))\n"
   ]
  },
  {
   "cell_type": "code",
   "execution_count": 13,
   "metadata": {},
   "outputs": [
    {
     "name": "stdout",
     "output_type": "stream",
     "text": [
      "Genre: Drama\n",
      "Genre: Comedy\n",
      "Genre: Romance Film\n",
      "Genre: Thriller\n",
      "Genre: Action\n",
      "Genre: World cinema\n",
      "Genre: Crime Fiction\n",
      "Genre: Horror\n",
      "Genre: Black-and-white\n",
      "Genre: Indie\n",
      "Genre: Action/Adventure\n",
      "Genre: Adventure\n",
      "Genre: Family Film\n",
      "Genre: Short Film\n",
      "Genre: Romantic drama\n",
      "Genre: Animation\n",
      "Genre: Musical\n",
      "Genre: Science Fiction\n",
      "Genre: Mystery\n",
      "Genre: Romantic comedy\n"
     ]
    }
   ],
   "source": [
    "#Train the logistic regression model looping through each genre\n",
    "\n",
    "df_predictons_phase2=df_test.select('movie_id')\n",
    "\n",
    "for genre in genres:\n",
    "    print(\"Genre: \"+genre)\n",
    "    labeldata = df_train_genres.select('movie_id',genre)\n",
    "    trainingdata_phase2=df_train_features_phase2.join(labeldata, \"movie_id\", \"inner\")\n",
    "    trainingdata_phase2=trainingdata_phase2.withColumnRenamed(genre,'label')\n",
    "    \n",
    "    trainingdata_phase2=trainingdata_phase2.select(col(\"label\"), col(\"features\")).rdd\\\n",
    "                .map(lambda row: LabeledPoint(row.label, Vectors.fromML(row.features)))\n",
    "\n",
    "    lr = LogisticRegressionWithSGD.train(trainingdata_phase2,iterations=30)\n",
    "    \n",
    "    predictions=df_test_features_phase2.select(col(\"movie_id\"),col(\"features\")).rdd\\\n",
    "                       .map(lambda row: (row.movie_id,lr.predict(Vectors.fromML(row.features))))\n",
    "    \n",
    "    predictions=predictions.toDF()\n",
    "    predictions=predictions.withColumnRenamed('_1','movie_id')\n",
    "    predictions=predictions.withColumnRenamed('_2','prediction')\n",
    "    \n",
    "    predictions = predictions.withColumnRenamed(\"prediction\",genre).select('movie_id',genre)\n",
    "    df_predictons_phase2=df_predictons_phase2.join(predictions, \"movie_id\",\"inner\")\n"
   ]
  },
  {
   "cell_type": "code",
   "execution_count": 14,
   "metadata": {},
   "outputs": [],
   "source": [
    "#Write to CSV file in the format that Kaggle would expect\n",
    "df_predictons_final_phase2 = df_predictons_phase2.withColumn(\"predictions\", concat_ws(\" \",*[col(genre).cast('int') for genre in genres]))\n",
    "df_predictons_final_phase2 = df_predictons_final_phase2.select('movie_id','predictions')\n",
    "df_predictons_final_phase2.repartition(1).write.csv(\"phase2_predictions.csv\",sep=',',header='true')\n"
   ]
  },
  {
   "cell_type": "markdown",
   "metadata": {},
   "source": [
    "# Part-3 Word2Vec"
   ]
  },
  {
   "cell_type": "code",
   "execution_count": 15,
   "metadata": {},
   "outputs": [],
   "source": [
    "#Implement Word2Vec\n",
    "word2vec = Word2Vec(inputCol=\"final_tokens\",outputCol=\"features\")\n",
    "model = word2vec.fit(df_train_features)\n",
    "df_train_features_phase3 = model.transform(df_train_features)\n",
    "df_test_features_phase3 = model.transform(df_test_features)\n"
   ]
  },
  {
   "cell_type": "code",
   "execution_count": 16,
   "metadata": {},
   "outputs": [],
   "source": [
    "#Convert training data to a format that Logstic Regression would expect\n",
    "trainingdata_phase3 = df_train_features_phase3\n",
    "labeldata = df_train_genres.select('movie_id',genre)\n",
    "trainingdata_phase3=trainingdata_phase3.join(labeldata, \"movie_id\", \"inner\")\n",
    "trainingdata_phase3=trainingdata_phase3.withColumnRenamed(genre,'label')\n",
    "\n",
    "trainingdata_phase3=trainingdata_phase3.select(col(\"label\"), col(\"features\")).rdd\\\n",
    "                .map(lambda row: LabeledPoint(row.label, Vectors.fromML(row.features)))"
   ]
  },
  {
   "cell_type": "code",
   "execution_count": 17,
   "metadata": {},
   "outputs": [
    {
     "name": "stdout",
     "output_type": "stream",
     "text": [
      "Genre: Drama\n",
      "Genre: Comedy\n",
      "Genre: Romance Film\n",
      "Genre: Thriller\n",
      "Genre: Action\n",
      "Genre: World cinema\n",
      "Genre: Crime Fiction\n",
      "Genre: Horror\n",
      "Genre: Black-and-white\n",
      "Genre: Indie\n",
      "Genre: Action/Adventure\n",
      "Genre: Adventure\n",
      "Genre: Family Film\n",
      "Genre: Short Film\n",
      "Genre: Romantic drama\n",
      "Genre: Animation\n",
      "Genre: Musical\n",
      "Genre: Science Fiction\n",
      "Genre: Mystery\n",
      "Genre: Romantic comedy\n"
     ]
    }
   ],
   "source": [
    "#Train the logistic regression model looping through each genre\n",
    "\n",
    "df_predictons_phase3=df_test.select('movie_id')\n",
    "\n",
    "for genre in genres:\n",
    "    print(\"Genre: \"+genre)\n",
    "    labeldata = df_train_genres.select('movie_id',genre)\n",
    "    trainingdata_phase3=df_train_features_phase3.join(labeldata, \"movie_id\", \"inner\")\n",
    "    trainingdata_phase3=trainingdata_phase3.withColumnRenamed(genre,'label')\n",
    "    \n",
    "    trainingdata_phase3=trainingdata_phase3.select(col(\"label\"), col(\"features\")).rdd\\\n",
    "                .map(lambda row: LabeledPoint(row.label, Vectors.fromML(row.features)))\n",
    "\n",
    "    lr = LogisticRegressionWithSGD.train(trainingdata_phase3,iterations=20)\n",
    "    \n",
    "    predictions=df_test_features_phase3.select(col(\"movie_id\"),col(\"features\")).rdd\\\n",
    "                       .map(lambda row: (row.movie_id,lr.predict(Vectors.fromML(row.features))))\n",
    "    \n",
    "    predictions=predictions.toDF()\n",
    "    predictions=predictions.withColumnRenamed('_1','movie_id')\n",
    "    predictions=predictions.withColumnRenamed('_2','prediction')\n",
    "    \n",
    "    predictions = predictions.withColumnRenamed(\"prediction\",genre).select('movie_id',genre)\n",
    "    df_predictons_phase3=df_predictons_phase3.join(predictions, \"movie_id\",\"inner\")\n"
   ]
  },
  {
   "cell_type": "code",
   "execution_count": 18,
   "metadata": {},
   "outputs": [],
   "source": [
    "#Write to CSV file in the format that Kaggle would expect\n",
    "df_predictons_final_phase3 = df_predictons_phase3.withColumn(\"predictions\", concat_ws(\" \",*[col(genre).cast('int') for genre in genres]))\n",
    "df_predictons_final_phase3 = df_predictons_final_phase3.select('movie_id','predictions')\n",
    "df_predictons_final_phase3.repartition(1).write.csv(\"phase3_predictions.csv\",sep=',',header='true')\n"
   ]
  }
 ],
 "metadata": {
  "kernelspec": {
   "display_name": "Python 3",
   "language": "python",
   "name": "python3"
  },
  "language_info": {
   "codemirror_mode": {
    "name": "ipython",
    "version": 3
   },
   "file_extension": ".py",
   "mimetype": "text/x-python",
   "name": "python",
   "nbconvert_exporter": "python",
   "pygments_lexer": "ipython3",
   "version": "3.7.5"
  },
  "varInspector": {
   "cols": {
    "lenName": 16,
    "lenType": 16,
    "lenVar": 40
   },
   "kernels_config": {
    "python": {
     "delete_cmd_postfix": "",
     "delete_cmd_prefix": "del ",
     "library": "var_list.py",
     "varRefreshCmd": "print(var_dic_list())"
    },
    "r": {
     "delete_cmd_postfix": ") ",
     "delete_cmd_prefix": "rm(",
     "library": "var_list.r",
     "varRefreshCmd": "cat(var_dic_list()) "
    }
   },
   "oldHeight": 302,
   "position": {
    "height": "324px",
    "left": "493px",
    "right": "20px",
    "top": "170px",
    "width": "634px"
   },
   "types_to_exclude": [
    "module",
    "function",
    "builtin_function_or_method",
    "instance",
    "_Feature"
   ],
   "varInspector_section_display": "block",
   "window_display": false
  }
 },
 "nbformat": 4,
 "nbformat_minor": 2
}
